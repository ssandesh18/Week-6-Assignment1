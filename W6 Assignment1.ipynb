{
  "nbformat": 4,
  "nbformat_minor": 0,
  "metadata": {
    "colab": {
      "provenance": []
    },
    "kernelspec": {
      "name": "python3",
      "display_name": "Python 3"
    },
    "language_info": {
      "name": "python"
    }
  },
  "cells": [
    {
      "cell_type": "code",
      "execution_count": null,
      "metadata": {
        "id": "KK4TGzrc-Ehy"
      },
      "outputs": [],
      "source": []
    },
    {
      "cell_type": "markdown",
      "source": [
        "Q1. What is a database? Differentiate between SQL and NoSQL databases.\n",
        "\n",
        "A database is a structured collection of data that is organized and stored in a computer system. It provides an efficient way to manage, manipulate, and retrieve data.\n",
        "\n",
        "SQL stands for Structured Query Language NOSQL stands for Not Only Structured Query Language\n",
        "\n",
        "SQL databases are relational databases that store structered data in tables with predefined schemas.\n",
        "\n",
        "NoSQL databases, on the other hand, are non-relational databases that provide a flexible schema and allow for storing and retrieving unstructured and semi-structured data\n",
        "\n",
        "Q2. What is DDL? Explain why CREATE, DROP, ALTER, and TRUNCATE are used with an example.\n",
        "\n",
        "DDL stands for Data Definition Language. It is a set of SQL commands used to define and manage the structure of the database objects, such as tables, indexes, and views.\n",
        "\n",
        "CREATE: The CREATE command is used to create a new database object, such as a table.\n",
        "\n",
        "DROP: The DROP command is used to delete a database object, such as a table.\n",
        "\n",
        "ALTER: The ALTER command is used to modify the structure of an existing database object. It allows adding, modifying, or deleting columns from a table, among other operations.\n",
        "\n",
        "TRUNCATE: The TRUNCATE command is used to remove all rows from a table, effectively resetting its data.\n",
        "\n",
        "CREATE TABLE employees (\n",
        "    id INT,\n",
        "    name VARCHAR(100),\n",
        "    age INT\n",
        ");\n",
        "DROP TABLE employees;\n",
        "ALTER TABLE employees\n",
        "ADD COLUMN salary DECIMAL(10, 2);\n",
        "TRUNCATE TABLE employees;\n",
        "Q3. What is DML? Explain INSERT, UPDATE, and DELETE with an example.\n",
        "\n",
        "DML stands for Data Manipulation Language. It is a set of SQL commands used to manage the data within the database. The following are some commonly used DML commands:\n",
        "\n",
        "INSERT: The INSERT command is used to add new rows of data into a table.\n",
        "\n",
        "UPDATE: The UPDATE command is used to modify existing data in a table.\n",
        "\n",
        "DELETE: The DELETE command is used to remove rows from a table.\n",
        "\n",
        "INSERT INTO employees (id, name, age)\n",
        "VALUES (1, 'John Doe', 30);\n",
        "UPDATE employees\n",
        "SET age = 31\n",
        "WHERE id = 1;\n",
        "DELETE FROM employees\n",
        "WHERE id = 1;\n",
        "Q4. What is DQL? Explain SELECT with an example.\n",
        "\n",
        "DQL stands for Data Query Language. It is primarily focused on retrieving and manipulating data stored in a database. The most commonly used DQL command is SELECT, which is used to query and retrieve data from one or more tables.\n",
        "\n",
        "Select *from employees;\n",
        "Q5. Explain Primary Key and Foreign Key.\n",
        "\n",
        "Primary Key: A primary key is a column or a set of columns that uniquely identifies each row in a table. It enforces entity integrity and ensures that each row has a unique identifier. A primary key constraint is applied to the column(s) to enforce this uniqueness. Typically, primary keys are used to identify and retrieve individual records efficiently. For example, in a table representing employees, an \"employee_id\" column can be designated as the primary key.\n",
        "\n",
        "Foreign Key: A foreign key is a column or a set of columns in a table that refers to the primary key of another table. It establishes a relationship between two tables based on the values in those columns. Foreign keys enable referential integrity and maintain data consistency between related tables. For example, if there is an \"employee_id\" column in an \"orders\" table that references the \"employee_id\" column in the \"employees\" table, it creates a foreign key relationship. This relationship ensures that an order can only be associated with an existing employee.\n",
        "\n",
        "Q6. Write a python code to connect MySQL to python. Explain the cursor() and execute() method.\n",
        "\n",
        "import mysql.connector\n",
        "\n",
        "mydb = mysql.connector.connect(\n",
        "        host='localhost',\n",
        "        user='username',\n",
        "        password='password'\n",
        ")\n",
        "\n",
        "cursor = mydb.cursor()\n",
        "cursor.execute(\"Select *from tablename\")\n",
        "cursor.close()\n",
        "mydb.close()\n",
        "The cursor() method is called on the connection object to create a cursor. The cursor is used to execute SQL queries and fetch the results. The execute() method of the cursor is used to execute an SQL query. In the example, a SELECT query is executed to retrieve all rows from the table.\n",
        "\n",
        "Q7. Give the order of execution of SQL clauses in an SQL query.\n",
        "\n",
        "The order of execution of SQL clauses in an SQL query is as follows:\n",
        "\n",
        "FROM: Specifies the table(s) from which to retrieve the data. WHERE: Filters the rows based on specified conditions. GROUP BY: Groups the rows based on specified columns. HAVING: Filters the groups based on specified conditions. SELECT: Specifies the columns to retrieve from the result set. DISTINCT: Filters out duplicate rows from the result set. ORDER BY: Sorts the result set based on specified columns. LIMIT/OFFSET: Limits the number of rows returned or specifies a starting point for the result set. UNION: Combines the result sets of multiple SELECT statements. INSERT/UPDATE/DELETE: Modifies the data in the database. COMMIT/ROLLBACK: Confirms or rolls back the transaction. It's important to note that not all clauses are required in every SQL query, and the specific order may vary depending on the query's purpose and the clauses used."
      ],
      "metadata": {
        "id": "goc0U9Y8-Lba"
      }
    },
    {
      "cell_type": "markdown",
      "source": [],
      "metadata": {
        "id": "MmCIt50B-QGm"
      }
    }
  ]
}